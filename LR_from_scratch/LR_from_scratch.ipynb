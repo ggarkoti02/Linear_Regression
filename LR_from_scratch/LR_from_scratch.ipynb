{
 "cells": [
  {
   "cell_type": "markdown",
   "metadata": {},
   "source": [
    "- importing libraries\n",
    "- load data\n",
    "- visualize\n",
    "- model creation"
   ]
  },
  {
   "cell_type": "code",
   "execution_count": 1,
   "metadata": {},
   "outputs": [],
   "source": [
    "import numpy as np\n",
    "import seaborn as sns\n",
    "import matplotlib.pyplot as plt"
   ]
  },
  {
   "cell_type": "code",
   "execution_count": 16,
   "metadata": {},
   "outputs": [],
   "source": [
    "X = [1, 1.1, 0.2, 0.4, 0.6, 1.2, 2, 2.4, 2.5, 2.9,2.6, 2.9, 3, \n",
    "     3.5, 3.9, 4.2, 4.6, 5.0, 5.1, 5.3,5.7, 5.9, 6.9, 6.1, 7, 8.1,\n",
    "     8.4, 8.6, 9, 9.2, 9.4, 9.8, 8.6, 3.2, 9.9, 10, 10.2, 11, 10.5, \n",
    "     11.5, 11.9, 12, 13.1, 13.5, 4.5, 3.2, 2.7]\n",
    "\n",
    "y = [20000, 22000, 15000, 16000, 17000, 21000, 22000, 22100, 35000, 23000, 25000, 25500, 25900,\n",
    "     26100, 27000, 27500, 28000, 26000, 26500, 27100, 25000, 38000, 30010,27450, 28050, 28600,\n",
    "     29001, 29301, 29900, 28500, 27490, 30000, 36000,32401, 34000, 31000, 40000, 42000, 31000,\n",
    "     45000, 49000, 50000, 54490, 34090, 30000, 31000, 35000]"
   ]
  },
  {
   "cell_type": "code",
   "execution_count": 17,
   "metadata": {},
   "outputs": [
    {
     "data": {
      "text/plain": [
       "<matplotlib.collections.PathCollection at 0x219902b0e48>"
      ]
     },
     "execution_count": 17,
     "metadata": {},
     "output_type": "execute_result"
    },
    {
     "data": {
      "image/png": "[encoded data removed]",
      "text/plain": [
       "<Figure size 432x288 with 1 Axes>"
      ]
     },
     "metadata": {
      "needs_background": "light"
     },
     "output_type": "display_data"
    }
   ],
   "source": [
    "plt.scatter(X,y)"
   ]
  },
  {
   "cell_type": "markdown",
   "metadata": {},
   "source": [
    "- b1 = (x-mean_x) * (y-mean_y) / (x - mean_x) ** 2\n",
    "- b0 = mean_y - b1*mean_x"
   ]
  },
  {
   "cell_type": "code",
   "execution_count": 5,
   "metadata": {},
   "outputs": [
    {
     "name": "stdout",
     "output_type": "stream",
     "text": [
      "6.048936170212766\n",
      "29871.978723404256\n"
     ]
    }
   ],
   "source": [
    "mean_x = np.mean(X)\n",
    "mean_y = np.mean(y)\n",
    "\n",
    "print(mean_x)\n",
    "print(mean_y)"
   ]
  },
  {
   "cell_type": "code",
   "execution_count": 7,
   "metadata": {},
   "outputs": [
    {
     "data": {
      "text/plain": [
       "47"
      ]
     },
     "execution_count": 7,
     "metadata": {},
     "output_type": "execute_result"
    }
   ],
   "source": [
    "n = len(X)\n",
    "n"
   ]
  },
  {
   "cell_type": "code",
   "execution_count": 8,
   "metadata": {},
   "outputs": [
    {
     "name": "stdout",
     "output_type": "stream",
     "text": [
      "b0:  19699.407604065018\n",
      "b1:  1681.7124256382137\n"
     ]
    }
   ],
   "source": [
    "num = 0\n",
    "den = 0\n",
    "\n",
    "for i in range(n):\n",
    "    num += (X[i] - mean_x) * (y[i] - mean_y)\n",
    "    den += (X[i] - mean_x) ** 2\n",
    "\n",
    "b1 = num / den\n",
    "b0 = mean_y - (b1*mean_x)\n",
    "\n",
    "print('b0: ', b0)\n",
    "print('b1: ', b1)"
   ]
  },
  {
   "cell_type": "markdown",
   "metadata": {},
   "source": [
    "- y = 19699.41 + 1681.71*x"
   ]
  },
  {
   "cell_type": "code",
   "execution_count": 28,
   "metadata": {},
   "outputs": [
    {
     "data": {
      "image/png": "[encoded data removed]",
      "text/plain": [
       "<Figure size 432x288 with 1 Axes>"
      ]
     },
     "metadata": {
      "needs_background": "light"
     },
     "output_type": "display_data"
    }
   ],
   "source": [
    "x_max = np.max(X) + 5\n",
    "x_min = np.min(X) \n",
    "\n",
    "x = np.linspace(x_min, x_max, 1000)\n",
    "y_ = b0 + (b1*x)\n",
    "\n",
    "plt.scatter(X,y, label='Data Points')\n",
    "plt.plot(x,y_, color='red', label='Best Fit Line')\n",
    "plt.legend()\n",
    "plt.show()"
   ]
  },
  {
   "cell_type": "markdown",
   "metadata": {},
   "source": [
    "- RMSE - ROOT MEAN SQUARED ERROR\n",
    "- R2"
   ]
  },
  {
   "cell_type": "markdown",
   "metadata": {},
   "source": [
    "- RMSE = SQRT(1/n (y[i] - y_pred) ** 2)\n",
    "- r2 = { 1-  (y[i] - mean_y) ** 2 / ( y[i] - y_pred ) ** 2 } "
   ]
  },
  {
   "cell_type": "code",
   "execution_count": 31,
   "metadata": {},
   "outputs": [
    {
     "name": "stdout",
     "output_type": "stream",
     "text": [
      "rmse:  1569.5027643432275\n"
     ]
    }
   ],
   "source": [
    "rmse = 0 \n",
    "\n",
    "for i in range(n):\n",
    "    y_pred = b0 + b1*X[i]\n",
    "    rmse = (y[i] - y_pred) ** 2 \n",
    "\n",
    "rmse = np.sqrt(rmse/n)\n",
    "print('rmse: ', rmse)"
   ]
  },
  {
   "cell_type": "code",
   "execution_count": null,
   "metadata": {},
   "outputs": [],
   "source": []
  }
 ],
 "metadata": {
  "kernelspec": {
   "display_name": "Python 3",
   "language": "python",
   "name": "python3"
  },
  "language_info": {
   "codemirror_mode": {
    "name": "ipython",
    "version": 3
   },
   "file_extension": ".py",
   "mimetype": "text/x-python",
   "name": "python",
   "nbconvert_exporter": "python",
   "pygments_lexer": "ipython3",
   "version": "3.7.6"
  }
 },
 "nbformat": 4,
 "nbformat_minor": 4
}
